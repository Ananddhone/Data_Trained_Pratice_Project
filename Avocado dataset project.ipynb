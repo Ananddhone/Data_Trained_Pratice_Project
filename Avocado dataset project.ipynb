{
 "cells": [
  {
   "cell_type": "markdown",
   "metadata": {},
   "source": [
    "# Avocado dataset\n",
    "The avocado (Persea americana), a tree likely originating from south central Mexico, is classified as a member of the flowering plant family Lauraceae.The fruit of the plant, also called an avocado (or avocado pear or alligator pear), is botanically a large berry containing a single large seed\n",
    "\n",
    "The table below represents weekly 2018 retail scan data for National retail volume (units) and price. Retail scan data comes directly from retailers’ cash registers based on actual retail sales of Hass avocados. Starting in 2013, the table below reflects an expanded, multi-outlet retail data set. Multi-outlet reporting includes an aggregation of the following channels: grocery, mass, club, drug, dollar and military. The Average Price (of avocados) in the table reflects a per unit (per avocado) cost, even when multiple units (avocados) are sold in bags. The Product Lookup codes (PLU’s) in the table are only for Hass avocados. Other varieties of avocados\n",
    "\n",
    "let's have some statistical and visualization on Avocado dataset.    "
   ]
  },
  {
   "cell_type": "code",
   "execution_count": 3,
   "metadata": {},
   "outputs": [
    {
     "data": {
      "text/html": [
       "<div>\n",
       "<style scoped>\n",
       "    .dataframe tbody tr th:only-of-type {\n",
       "        vertical-align: middle;\n",
       "    }\n",
       "\n",
       "    .dataframe tbody tr th {\n",
       "        vertical-align: top;\n",
       "    }\n",
       "\n",
       "    .dataframe thead th {\n",
       "        text-align: right;\n",
       "    }\n",
       "</style>\n",
       "<table border=\"1\" class=\"dataframe\">\n",
       "  <thead>\n",
       "    <tr style=\"text-align: right;\">\n",
       "      <th></th>\n",
       "      <th>Unnamed: 0</th>\n",
       "      <th>Date</th>\n",
       "      <th>AveragePrice</th>\n",
       "      <th>Total Volume</th>\n",
       "      <th>4046</th>\n",
       "      <th>4225</th>\n",
       "      <th>4770</th>\n",
       "      <th>Total Bags</th>\n",
       "      <th>Small Bags</th>\n",
       "      <th>Large Bags</th>\n",
       "      <th>XLarge Bags</th>\n",
       "      <th>type</th>\n",
       "      <th>year</th>\n",
       "      <th>region</th>\n",
       "    </tr>\n",
       "  </thead>\n",
       "  <tbody>\n",
       "    <tr>\n",
       "      <th>0</th>\n",
       "      <td>0</td>\n",
       "      <td>27-12-2015</td>\n",
       "      <td>1.33</td>\n",
       "      <td>64236.62</td>\n",
       "      <td>1036.74</td>\n",
       "      <td>54454.85</td>\n",
       "      <td>48.16</td>\n",
       "      <td>8696.87</td>\n",
       "      <td>8603.62</td>\n",
       "      <td>93.25</td>\n",
       "      <td>0.0</td>\n",
       "      <td>conventional</td>\n",
       "      <td>2015</td>\n",
       "      <td>Albany</td>\n",
       "    </tr>\n",
       "    <tr>\n",
       "      <th>1</th>\n",
       "      <td>1</td>\n",
       "      <td>20-12-2015</td>\n",
       "      <td>1.35</td>\n",
       "      <td>54876.98</td>\n",
       "      <td>674.28</td>\n",
       "      <td>44638.81</td>\n",
       "      <td>58.33</td>\n",
       "      <td>9505.56</td>\n",
       "      <td>9408.07</td>\n",
       "      <td>97.49</td>\n",
       "      <td>0.0</td>\n",
       "      <td>conventional</td>\n",
       "      <td>2015</td>\n",
       "      <td>Albany</td>\n",
       "    </tr>\n",
       "    <tr>\n",
       "      <th>2</th>\n",
       "      <td>2</td>\n",
       "      <td>13-12-2015</td>\n",
       "      <td>0.93</td>\n",
       "      <td>118220.22</td>\n",
       "      <td>794.70</td>\n",
       "      <td>109149.67</td>\n",
       "      <td>130.50</td>\n",
       "      <td>8145.35</td>\n",
       "      <td>8042.21</td>\n",
       "      <td>103.14</td>\n",
       "      <td>0.0</td>\n",
       "      <td>conventional</td>\n",
       "      <td>2015</td>\n",
       "      <td>Albany</td>\n",
       "    </tr>\n",
       "    <tr>\n",
       "      <th>3</th>\n",
       "      <td>3</td>\n",
       "      <td>06-12-2015</td>\n",
       "      <td>1.08</td>\n",
       "      <td>78992.15</td>\n",
       "      <td>1132.00</td>\n",
       "      <td>71976.41</td>\n",
       "      <td>72.58</td>\n",
       "      <td>5811.16</td>\n",
       "      <td>5677.40</td>\n",
       "      <td>133.76</td>\n",
       "      <td>0.0</td>\n",
       "      <td>conventional</td>\n",
       "      <td>2015</td>\n",
       "      <td>Albany</td>\n",
       "    </tr>\n",
       "    <tr>\n",
       "      <th>4</th>\n",
       "      <td>4</td>\n",
       "      <td>29-11-2015</td>\n",
       "      <td>1.28</td>\n",
       "      <td>51039.60</td>\n",
       "      <td>941.48</td>\n",
       "      <td>43838.39</td>\n",
       "      <td>75.78</td>\n",
       "      <td>6183.95</td>\n",
       "      <td>5986.26</td>\n",
       "      <td>197.69</td>\n",
       "      <td>0.0</td>\n",
       "      <td>conventional</td>\n",
       "      <td>2015</td>\n",
       "      <td>Albany</td>\n",
       "    </tr>\n",
       "    <tr>\n",
       "      <th>...</th>\n",
       "      <td>...</td>\n",
       "      <td>...</td>\n",
       "      <td>...</td>\n",
       "      <td>...</td>\n",
       "      <td>...</td>\n",
       "      <td>...</td>\n",
       "      <td>...</td>\n",
       "      <td>...</td>\n",
       "      <td>...</td>\n",
       "      <td>...</td>\n",
       "      <td>...</td>\n",
       "      <td>...</td>\n",
       "      <td>...</td>\n",
       "      <td>...</td>\n",
       "    </tr>\n",
       "    <tr>\n",
       "      <th>1503</th>\n",
       "      <td>1</td>\n",
       "      <td>18-12-2016</td>\n",
       "      <td>1.24</td>\n",
       "      <td>144634.01</td>\n",
       "      <td>35761.88</td>\n",
       "      <td>46276.63</td>\n",
       "      <td>7942.68</td>\n",
       "      <td>54652.82</td>\n",
       "      <td>44604.56</td>\n",
       "      <td>10048.26</td>\n",
       "      <td>0.0</td>\n",
       "      <td>conventional</td>\n",
       "      <td>2016</td>\n",
       "      <td>Charlotte</td>\n",
       "    </tr>\n",
       "    <tr>\n",
       "      <th>1504</th>\n",
       "      <td>2</td>\n",
       "      <td>11-12-2016</td>\n",
       "      <td>1.33</td>\n",
       "      <td>145815.04</td>\n",
       "      <td>43744.87</td>\n",
       "      <td>40971.14</td>\n",
       "      <td>8696.54</td>\n",
       "      <td>52402.49</td>\n",
       "      <td>46293.11</td>\n",
       "      <td>6109.38</td>\n",
       "      <td>0.0</td>\n",
       "      <td>conventional</td>\n",
       "      <td>2016</td>\n",
       "      <td>Charlotte</td>\n",
       "    </tr>\n",
       "    <tr>\n",
       "      <th>1505</th>\n",
       "      <td>3</td>\n",
       "      <td>04-12-2016</td>\n",
       "      <td>1.34</td>\n",
       "      <td>154742.81</td>\n",
       "      <td>39221.82</td>\n",
       "      <td>46285.90</td>\n",
       "      <td>9451.98</td>\n",
       "      <td>59783.11</td>\n",
       "      <td>48016.74</td>\n",
       "      <td>11766.37</td>\n",
       "      <td>0.0</td>\n",
       "      <td>conventional</td>\n",
       "      <td>2016</td>\n",
       "      <td>Charlotte</td>\n",
       "    </tr>\n",
       "    <tr>\n",
       "      <th>1506</th>\n",
       "      <td>4</td>\n",
       "      <td>27-11-2016</td>\n",
       "      <td>1.54</td>\n",
       "      <td>131453.85</td>\n",
       "      <td>38976.01</td>\n",
       "      <td>34346.09</td>\n",
       "      <td>8265.03</td>\n",
       "      <td>49866.72</td>\n",
       "      <td>44005.31</td>\n",
       "      <td>5861.41</td>\n",
       "      <td>0.0</td>\n",
       "      <td>conventional</td>\n",
       "      <td>2016</td>\n",
       "      <td>Charlotte</td>\n",
       "    </tr>\n",
       "    <tr>\n",
       "      <th>1507</th>\n",
       "      <td>5</td>\n",
       "      <td>20-11-2016</td>\n",
       "      <td>1.57</td>\n",
       "      <td>135608.11</td>\n",
       "      <td>44044.69</td>\n",
       "      <td>28907.47</td>\n",
       "      <td>13913.04</td>\n",
       "      <td>48742.91</td>\n",
       "      <td>42721.62</td>\n",
       "      <td>6021.29</td>\n",
       "      <td>0.0</td>\n",
       "      <td>conventional</td>\n",
       "      <td>2016</td>\n",
       "      <td>Charlotte</td>\n",
       "    </tr>\n",
       "  </tbody>\n",
       "</table>\n",
       "<p>1508 rows × 14 columns</p>\n",
       "</div>"
      ],
      "text/plain": [
       "      Unnamed: 0        Date  AveragePrice  Total Volume      4046       4225  \\\n",
       "0              0  27-12-2015          1.33      64236.62   1036.74   54454.85   \n",
       "1              1  20-12-2015          1.35      54876.98    674.28   44638.81   \n",
       "2              2  13-12-2015          0.93     118220.22    794.70  109149.67   \n",
       "3              3  06-12-2015          1.08      78992.15   1132.00   71976.41   \n",
       "4              4  29-11-2015          1.28      51039.60    941.48   43838.39   \n",
       "...          ...         ...           ...           ...       ...        ...   \n",
       "1503           1  18-12-2016          1.24     144634.01  35761.88   46276.63   \n",
       "1504           2  11-12-2016          1.33     145815.04  43744.87   40971.14   \n",
       "1505           3  04-12-2016          1.34     154742.81  39221.82   46285.90   \n",
       "1506           4  27-11-2016          1.54     131453.85  38976.01   34346.09   \n",
       "1507           5  20-11-2016          1.57     135608.11  44044.69   28907.47   \n",
       "\n",
       "          4770  Total Bags  Small Bags  Large Bags  XLarge Bags          type  \\\n",
       "0        48.16     8696.87     8603.62       93.25          0.0  conventional   \n",
       "1        58.33     9505.56     9408.07       97.49          0.0  conventional   \n",
       "2       130.50     8145.35     8042.21      103.14          0.0  conventional   \n",
       "3        72.58     5811.16     5677.40      133.76          0.0  conventional   \n",
       "4        75.78     6183.95     5986.26      197.69          0.0  conventional   \n",
       "...        ...         ...         ...         ...          ...           ...   \n",
       "1503   7942.68    54652.82    44604.56    10048.26          0.0  conventional   \n",
       "1504   8696.54    52402.49    46293.11     6109.38          0.0  conventional   \n",
       "1505   9451.98    59783.11    48016.74    11766.37          0.0  conventional   \n",
       "1506   8265.03    49866.72    44005.31     5861.41          0.0  conventional   \n",
       "1507  13913.04    48742.91    42721.62     6021.29          0.0  conventional   \n",
       "\n",
       "      year     region  \n",
       "0     2015     Albany  \n",
       "1     2015     Albany  \n",
       "2     2015     Albany  \n",
       "3     2015     Albany  \n",
       "4     2015     Albany  \n",
       "...    ...        ...  \n",
       "1503  2016  Charlotte  \n",
       "1504  2016  Charlotte  \n",
       "1505  2016  Charlotte  \n",
       "1506  2016  Charlotte  \n",
       "1507  2016  Charlotte  \n",
       "\n",
       "[1508 rows x 14 columns]"
      ]
     },
     "execution_count": 3,
     "metadata": {},
     "output_type": "execute_result"
    }
   ],
   "source": [
    "import pandas as pd\n",
    "df_avocado=pd.read_csv('avocado.csv')\n",
    "df_avocado"
   ]
  },
  {
   "cell_type": "code",
   "execution_count": null,
   "metadata": {},
   "outputs": [],
   "source": []
  },
  {
   "cell_type": "code",
   "execution_count": 4,
   "metadata": {},
   "outputs": [
    {
     "name": "stdout",
     "output_type": "stream",
     "text": [
      "<class 'pandas.core.frame.DataFrame'>\n",
      "RangeIndex: 1508 entries, 0 to 1507\n",
      "Data columns (total 14 columns):\n",
      " #   Column        Non-Null Count  Dtype  \n",
      "---  ------        --------------  -----  \n",
      " 0   Unnamed: 0    1508 non-null   int64  \n",
      " 1   Date          1508 non-null   object \n",
      " 2   AveragePrice  1508 non-null   float64\n",
      " 3   Total Volume  1508 non-null   float64\n",
      " 4   4046          1508 non-null   float64\n",
      " 5   4225          1508 non-null   float64\n",
      " 6   4770          1508 non-null   float64\n",
      " 7   Total Bags    1508 non-null   float64\n",
      " 8   Small Bags    1508 non-null   float64\n",
      " 9   Large Bags    1508 non-null   float64\n",
      " 10  XLarge Bags   1508 non-null   float64\n",
      " 11  type          1508 non-null   object \n",
      " 12  year          1508 non-null   int64  \n",
      " 13  region        1508 non-null   object \n",
      "dtypes: float64(9), int64(2), object(3)\n",
      "memory usage: 165.1+ KB\n"
     ]
    }
   ],
   "source": [
    "#let's get a quick overview of the dataset\n",
    "df_avocado.info()"
   ]
  },
  {
   "cell_type": "markdown",
   "metadata": {},
   "source": [
    "Observation: In the dataset most of datatype have is float but while doing analizing we need integar type"
   ]
  },
  {
   "cell_type": "code",
   "execution_count": 6,
   "metadata": {},
   "outputs": [],
   "source": [
    "#Let's convert some of dataset from float to integar \n",
    "cols_float_int=[\"AveragePrice\",\"Total Volume\",\"Total Bags\",\"Small Bags\",\"XLarge Bags\"]\n",
    "for col in cols_float_int:\n",
    "    df_avocado[col]=df_avocado[col].astype(int)"
   ]
  },
  {
   "cell_type": "code",
   "execution_count": 7,
   "metadata": {},
   "outputs": [
    {
     "name": "stdout",
     "output_type": "stream",
     "text": [
      "<class 'pandas.core.frame.DataFrame'>\n",
      "RangeIndex: 1508 entries, 0 to 1507\n",
      "Data columns (total 14 columns):\n",
      " #   Column        Non-Null Count  Dtype  \n",
      "---  ------        --------------  -----  \n",
      " 0   Unnamed: 0    1508 non-null   int64  \n",
      " 1   Date          1508 non-null   object \n",
      " 2   AveragePrice  1508 non-null   int32  \n",
      " 3   Total Volume  1508 non-null   int32  \n",
      " 4   4046          1508 non-null   float64\n",
      " 5   4225          1508 non-null   float64\n",
      " 6   4770          1508 non-null   float64\n",
      " 7   Total Bags    1508 non-null   int32  \n",
      " 8   Small Bags    1508 non-null   int32  \n",
      " 9   Large Bags    1508 non-null   float64\n",
      " 10  XLarge Bags   1508 non-null   int32  \n",
      " 11  type          1508 non-null   object \n",
      " 12  year          1508 non-null   int64  \n",
      " 13  region        1508 non-null   object \n",
      "dtypes: float64(4), int32(5), int64(2), object(3)\n",
      "memory usage: 135.6+ KB\n"
     ]
    }
   ],
   "source": [
    "#Let's again check the dataype\n",
    "df_avocado.info()"
   ]
  },
  {
   "cell_type": "markdown",
   "metadata": {},
   "source": [
    "Observation: Now we can see that datatype converted from float to integer"
   ]
  },
  {
   "cell_type": "code",
   "execution_count": 8,
   "metadata": {},
   "outputs": [
    {
     "data": {
      "text/html": [
       "<div>\n",
       "<style scoped>\n",
       "    .dataframe tbody tr th:only-of-type {\n",
       "        vertical-align: middle;\n",
       "    }\n",
       "\n",
       "    .dataframe tbody tr th {\n",
       "        vertical-align: top;\n",
       "    }\n",
       "\n",
       "    .dataframe thead th {\n",
       "        text-align: right;\n",
       "    }\n",
       "</style>\n",
       "<table border=\"1\" class=\"dataframe\">\n",
       "  <thead>\n",
       "    <tr style=\"text-align: right;\">\n",
       "      <th></th>\n",
       "      <th>Unnamed: 0</th>\n",
       "      <th>AveragePrice</th>\n",
       "      <th>Total Volume</th>\n",
       "      <th>4046</th>\n",
       "      <th>4225</th>\n",
       "      <th>4770</th>\n",
       "      <th>Total Bags</th>\n",
       "      <th>Small Bags</th>\n",
       "      <th>Large Bags</th>\n",
       "      <th>XLarge Bags</th>\n",
       "      <th>year</th>\n",
       "    </tr>\n",
       "  </thead>\n",
       "  <tbody>\n",
       "    <tr>\n",
       "      <th>count</th>\n",
       "      <td>1508.000000</td>\n",
       "      <td>1508.000000</td>\n",
       "      <td>1.508000e+03</td>\n",
       "      <td>1.508000e+03</td>\n",
       "      <td>1.508000e+03</td>\n",
       "      <td>1.508000e+03</td>\n",
       "      <td>1.508000e+03</td>\n",
       "      <td>1.508000e+03</td>\n",
       "      <td>1.508000e+03</td>\n",
       "      <td>1508.000000</td>\n",
       "      <td>1508.000000</td>\n",
       "    </tr>\n",
       "    <tr>\n",
       "      <th>mean</th>\n",
       "      <td>27.096817</td>\n",
       "      <td>0.694960</td>\n",
       "      <td>1.610433e+06</td>\n",
       "      <td>6.500148e+05</td>\n",
       "      <td>6.148264e+05</td>\n",
       "      <td>5.058501e+04</td>\n",
       "      <td>2.950070e+05</td>\n",
       "      <td>2.499650e+05</td>\n",
       "      <td>4.284804e+04</td>\n",
       "      <td>2193.704907</td>\n",
       "      <td>2015.157825</td>\n",
       "    </tr>\n",
       "    <tr>\n",
       "      <th>std</th>\n",
       "      <td>14.832841</td>\n",
       "      <td>0.460577</td>\n",
       "      <td>4.444972e+06</td>\n",
       "      <td>1.952868e+06</td>\n",
       "      <td>1.677317e+06</td>\n",
       "      <td>1.381721e+05</td>\n",
       "      <td>7.600157e+05</td>\n",
       "      <td>6.492223e+05</td>\n",
       "      <td>1.185379e+05</td>\n",
       "      <td>7476.169503</td>\n",
       "      <td>0.364698</td>\n",
       "    </tr>\n",
       "    <tr>\n",
       "      <th>min</th>\n",
       "      <td>0.000000</td>\n",
       "      <td>0.000000</td>\n",
       "      <td>3.875000e+04</td>\n",
       "      <td>4.677200e+02</td>\n",
       "      <td>1.783770e+03</td>\n",
       "      <td>0.000000e+00</td>\n",
       "      <td>3.311000e+03</td>\n",
       "      <td>3.311000e+03</td>\n",
       "      <td>0.000000e+00</td>\n",
       "      <td>0.000000</td>\n",
       "      <td>2015.000000</td>\n",
       "    </tr>\n",
       "    <tr>\n",
       "      <th>25%</th>\n",
       "      <td>14.000000</td>\n",
       "      <td>0.000000</td>\n",
       "      <td>1.474878e+05</td>\n",
       "      <td>2.025998e+04</td>\n",
       "      <td>4.164731e+04</td>\n",
       "      <td>8.877750e+02</td>\n",
       "      <td>3.605850e+04</td>\n",
       "      <td>2.967275e+04</td>\n",
       "      <td>5.247400e+02</td>\n",
       "      <td>0.000000</td>\n",
       "      <td>2015.000000</td>\n",
       "    </tr>\n",
       "    <tr>\n",
       "      <th>50%</th>\n",
       "      <td>29.000000</td>\n",
       "      <td>1.000000</td>\n",
       "      <td>4.062230e+05</td>\n",
       "      <td>8.338717e+04</td>\n",
       "      <td>1.237515e+05</td>\n",
       "      <td>7.528655e+03</td>\n",
       "      <td>7.457900e+04</td>\n",
       "      <td>6.275000e+04</td>\n",
       "      <td>4.940300e+03</td>\n",
       "      <td>0.000000</td>\n",
       "      <td>2015.000000</td>\n",
       "    </tr>\n",
       "    <tr>\n",
       "      <th>75%</th>\n",
       "      <td>40.000000</td>\n",
       "      <td>1.000000</td>\n",
       "      <td>9.904902e+05</td>\n",
       "      <td>3.811823e+05</td>\n",
       "      <td>4.868930e+05</td>\n",
       "      <td>3.085165e+04</td>\n",
       "      <td>1.582090e+05</td>\n",
       "      <td>1.468200e+05</td>\n",
       "      <td>3.005311e+04</td>\n",
       "      <td>409.000000</td>\n",
       "      <td>2015.000000</td>\n",
       "    </tr>\n",
       "    <tr>\n",
       "      <th>max</th>\n",
       "      <td>51.000000</td>\n",
       "      <td>1.000000</td>\n",
       "      <td>4.465546e+07</td>\n",
       "      <td>1.893304e+07</td>\n",
       "      <td>1.895648e+07</td>\n",
       "      <td>1.381516e+06</td>\n",
       "      <td>6.736304e+06</td>\n",
       "      <td>5.893641e+06</td>\n",
       "      <td>1.121076e+06</td>\n",
       "      <td>108072.000000</td>\n",
       "      <td>2016.000000</td>\n",
       "    </tr>\n",
       "  </tbody>\n",
       "</table>\n",
       "</div>"
      ],
      "text/plain": [
       "        Unnamed: 0  AveragePrice  Total Volume          4046          4225  \\\n",
       "count  1508.000000   1508.000000  1.508000e+03  1.508000e+03  1.508000e+03   \n",
       "mean     27.096817      0.694960  1.610433e+06  6.500148e+05  6.148264e+05   \n",
       "std      14.832841      0.460577  4.444972e+06  1.952868e+06  1.677317e+06   \n",
       "min       0.000000      0.000000  3.875000e+04  4.677200e+02  1.783770e+03   \n",
       "25%      14.000000      0.000000  1.474878e+05  2.025998e+04  4.164731e+04   \n",
       "50%      29.000000      1.000000  4.062230e+05  8.338717e+04  1.237515e+05   \n",
       "75%      40.000000      1.000000  9.904902e+05  3.811823e+05  4.868930e+05   \n",
       "max      51.000000      1.000000  4.465546e+07  1.893304e+07  1.895648e+07   \n",
       "\n",
       "               4770    Total Bags    Small Bags    Large Bags    XLarge Bags  \\\n",
       "count  1.508000e+03  1.508000e+03  1.508000e+03  1.508000e+03    1508.000000   \n",
       "mean   5.058501e+04  2.950070e+05  2.499650e+05  4.284804e+04    2193.704907   \n",
       "std    1.381721e+05  7.600157e+05  6.492223e+05  1.185379e+05    7476.169503   \n",
       "min    0.000000e+00  3.311000e+03  3.311000e+03  0.000000e+00       0.000000   \n",
       "25%    8.877750e+02  3.605850e+04  2.967275e+04  5.247400e+02       0.000000   \n",
       "50%    7.528655e+03  7.457900e+04  6.275000e+04  4.940300e+03       0.000000   \n",
       "75%    3.085165e+04  1.582090e+05  1.468200e+05  3.005311e+04     409.000000   \n",
       "max    1.381516e+06  6.736304e+06  5.893641e+06  1.121076e+06  108072.000000   \n",
       "\n",
       "              year  \n",
       "count  1508.000000  \n",
       "mean   2015.157825  \n",
       "std       0.364698  \n",
       "min    2015.000000  \n",
       "25%    2015.000000  \n",
       "50%    2015.000000  \n",
       "75%    2015.000000  \n",
       "max    2016.000000  "
      ]
     },
     "execution_count": 8,
     "metadata": {},
     "output_type": "execute_result"
    }
   ],
   "source": [
    "#Let's calculating some statistical data like percentile, mean and std of salary dataset. \n",
    "df_avocado.describe()"
   ]
  },
  {
   "cell_type": "code",
   "execution_count": 6,
   "metadata": {},
   "outputs": [
    {
     "data": {
      "image/png": "[encoded data removed]",
      "text/plain": [
       "<Figure size 432x288 with 2 Axes>"
      ]
     },
     "metadata": {
      "needs_background": "light"
     },
     "output_type": "display_data"
    }
   ],
   "source": [
    "# for getting accurate result of any dataset need to check wheter any null value present in dataset or not.\n",
    "import seaborn as sns\n",
    "import matplotlib.pyplot as plt\n",
    "sns.heatmap(df_avocado.isnull(),annot=True)\n",
    "plt.show()"
   ]
  },
  {
   "cell_type": "code",
   "execution_count": 9,
   "metadata": {},
   "outputs": [
    {
     "data": {
      "text/plain": [
       "Unnamed: 0      0\n",
       "Date            0\n",
       "AveragePrice    0\n",
       "Total Volume    0\n",
       "4046            0\n",
       "4225            0\n",
       "4770            0\n",
       "Total Bags      0\n",
       "Small Bags      0\n",
       "Large Bags      0\n",
       "XLarge Bags     0\n",
       "type            0\n",
       "year            0\n",
       "region          0\n",
       "dtype: int64"
      ]
     },
     "execution_count": 9,
     "metadata": {},
     "output_type": "execute_result"
    }
   ],
   "source": [
    "#Checking the null values without using visualisation.\n",
    "df_avocado.isnull().sum()"
   ]
  },
  {
   "cell_type": "markdown",
   "metadata": {},
   "source": [
    "Observation: No null value there"
   ]
  },
  {
   "cell_type": "code",
   "execution_count": 21,
   "metadata": {},
   "outputs": [
    {
     "data": {
      "text/plain": [
       "Unnamed: 0     -0.247891\n",
       "AveragePrice   -0.847715\n",
       "Total Volume    6.181969\n",
       "4046            6.033680\n",
       "4225            6.376718\n",
       "4770            5.387634\n",
       "Total Bags      5.349740\n",
       "Small Bags      5.338525\n",
       "Large Bags      5.128101\n",
       "XLarge Bags     5.757178\n",
       "year            1.878978\n",
       "dtype: float64"
      ]
     },
     "execution_count": 21,
     "metadata": {},
     "output_type": "execute_result"
    }
   ],
   "source": [
    "#let's check the skewness of the dataset \n",
    "df_avocado.skew()\n",
    "#skewness is 0, the data are perfectly symmetrical, although it is quite unlikely for real-world data. \n",
    "#As a general rule of thumb: If skewness is less than -1 or greater than 1, the distribution is highly skewed."
   ]
  },
  {
   "cell_type": "markdown",
   "metadata": {},
   "source": [
    "Observation: As per  rule skewness is 0, the data are perfectly symmetrical, although it is quite unlikely for real-world data. As a general rule of thumb: If skewness is less than -1 or greater than 1, the distribution is highly skewed. As we can see that we need to Treatig the skewness."
   ]
  },
  {
   "cell_type": "code",
   "execution_count": 16,
   "metadata": {},
   "outputs": [
    {
     "data": {
      "image/png": "[encoded data removed]",
      "text/plain": [
       "<Figure size 432x288 with 1 Axes>"
      ]
     },
     "metadata": {
      "needs_background": "light"
     },
     "output_type": "display_data"
    }
   ],
   "source": [
    "# let see how the average price changed over time since 2015?\n",
    "sns.barplot(x=df_avocado[\"Date\"],y=df_avocado[\"AveragePrice\"],data=df_avocado)\n",
    "plt.show()"
   ]
  },
  {
   "cell_type": "markdown",
   "metadata": {},
   "source": [
    "Observation: Its showing that there is upward in pricing after july 2017 ."
   ]
  },
  {
   "cell_type": "code",
   "execution_count": 4,
   "metadata": {},
   "outputs": [
    {
     "data": {
      "image/png": "[encoded data removed]",
      "text/plain": [
       "<Figure size 432x288 with 1 Axes>"
      ]
     },
     "metadata": {
      "needs_background": "light"
     },
     "output_type": "display_data"
    }
   ],
   "source": [
    "#let's see that how Total Volume change with AveragePrice.\n",
    "import seaborn as sns\n",
    "import matplotlib.pyplot as plt\n",
    "sns.lineplot(x=df_avocado[\"AveragePrice\"],y=df_avocado[\"Total Volume\"],data=df_avocado)\n",
    "plt.show()"
   ]
  },
  {
   "cell_type": "markdown",
   "metadata": {},
   "source": [
    "Observation: In Graph we can see that when average price in between 0.8 to 1.0 so the total valume more. So its better to keep price in between 0.8 to 1.0. Because after that even price incress but the the total valume got down "
   ]
  },
  {
   "cell_type": "code",
   "execution_count": 12,
   "metadata": {},
   "outputs": [
    {
     "data": {
      "image/png": "[encoded data removed]",
      "text/plain": [
       "<Figure size 432x288 with 1 Axes>"
      ]
     },
     "metadata": {
      "needs_background": "light"
     },
     "output_type": "display_data"
    }
   ],
   "source": [
    "#let's see that how Total Bags change with AveragePrice.\n",
    "sns.lineplot(x=df_avocado[\"AveragePrice\"],y=df_avocado[\"Total Bags\"],data=df_avocado)\n",
    "plt.show()"
   ]
  },
  {
   "cell_type": "markdown",
   "metadata": {},
   "source": [
    "Observation: As we can see that as average price increas so total bage come down."
   ]
  },
  {
   "cell_type": "code",
   "execution_count": 13,
   "metadata": {},
   "outputs": [
    {
     "data": {
      "image/png": "[encoded data removed]",
      "text/plain": [
       "<Figure size 432x288 with 1 Axes>"
      ]
     },
     "metadata": {
      "needs_background": "light"
     },
     "output_type": "display_data"
    }
   ],
   "source": [
    "#let's see that how Small Bags change with AveragePrice.\n",
    "sns.lineplot(x=df_avocado[\"AveragePrice\"],y=df_avocado[\"Small Bags\"],data=df_avocado)\n",
    "plt.show()"
   ]
  },
  {
   "cell_type": "markdown",
   "metadata": {},
   "source": [
    "Observation: As we can see that as average price increas so Small Bags come down."
   ]
  },
  {
   "cell_type": "code",
   "execution_count": 14,
   "metadata": {},
   "outputs": [
    {
     "data": {
      "image/png": "[encoded data removed]",
      "text/plain": [
       "<Figure size 432x288 with 1 Axes>"
      ]
     },
     "metadata": {
      "needs_background": "light"
     },
     "output_type": "display_data"
    }
   ],
   "source": [
    "#let's see that how XLarge Bags change with AveragePrice.\n",
    "sns.lineplot(x=df_avocado[\"AveragePrice\"],y=df_avocado[\"XLarge Bags\"],data=df_avocado)\n",
    "plt.show()"
   ]
  },
  {
   "cell_type": "code",
   "execution_count": null,
   "metadata": {},
   "outputs": [],
   "source": [
    "Observation: As we can see that as average price increas so XLarge come down."
   ]
  },
  {
   "cell_type": "code",
   "execution_count": null,
   "metadata": {},
   "outputs": [],
   "source": [
    "End Result: Hence we can say that for better sale of Avocado. We need to keep price down.   "
   ]
  },
  {
   "cell_type": "code",
   "execution_count": null,
   "metadata": {},
   "outputs": [
    {
     "name": "stderr",
     "output_type": "stream",
     "text": [
      "C:\\Users\\B2IN\\anaconda3\\lib\\site-packages\\seaborn\\axisgrid.py:243: UserWarning: The `size` parameter has been renamed to `height`; please update your code.\n",
      "  warnings.warn(msg, UserWarning)\n"
     ]
    }
   ],
   "source": [
    "#let's see the correlation between AveragePrice and Small Bags','Large Bags','XLarge Bags.  \n",
    "FacetGrid = sns.FacetGrid(df_avocado, row='AveragePrice', size=4.5, aspect=1.6)\n",
    "FacetGrid.map(sns.pointplot, 'Small Bags','Large Bags','XLarge Bags', palette=None,  order=None, hue_order=None )\n",
    "FacetGrid.add_legend()"
   ]
  },
  {
   "cell_type": "code",
   "execution_count": null,
   "metadata": {},
   "outputs": [],
   "source": []
  },
  {
   "cell_type": "code",
   "execution_count": null,
   "metadata": {},
   "outputs": [],
   "source": []
  },
  {
   "cell_type": "code",
   "execution_count": null,
   "metadata": {},
   "outputs": [],
   "source": []
  }
 ],
 "metadata": {
  "kernelspec": {
   "display_name": "Python 3",
   "language": "python",
   "name": "python3"
  },
  "language_info": {
   "codemirror_mode": {
    "name": "ipython",
    "version": 3
   },
   "file_extension": ".py",
   "mimetype": "text/x-python",
   "name": "python",
   "nbconvert_exporter": "python",
   "pygments_lexer": "ipython3",
   "version": "3.7.6"
  }
 },
 "nbformat": 4,
 "nbformat_minor": 4
}
